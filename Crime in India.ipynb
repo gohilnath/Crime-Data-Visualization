{
 "cells": [
  {
   "cell_type": "code",
   "execution_count": null,
   "id": "c38852fc-976c-472e-8e06-27bf83f884f2",
   "metadata": {},
   "outputs": [
    {
     "name": "stdout",
     "output_type": "stream",
     "text": [
      "Requirement already satisfied: requests in c:\\python\\lib\\site-packages (2.31.0)\n",
      "Requirement already satisfied: charset-normalizer<4,>=2 in c:\\python\\lib\\site-packages (from requests) (3.3.0)\n",
      "Requirement already satisfied: idna<4,>=2.5 in c:\\python\\lib\\site-packages (from requests) (3.4)\n",
      "Requirement already satisfied: urllib3<3,>=1.21.1 in c:\\python\\lib\\site-packages (from requests) (2.0.6)\n",
      "Requirement already satisfied: certifi>=2017.4.17 in c:\\python\\lib\\site-packages (from requests) (2023.7.22)\n"
     ]
    },
    {
     "name": "stderr",
     "output_type": "stream",
     "text": [
      "\n",
      "[notice] A new release of pip is available: 23.2.1 -> 23.3.1\n",
      "[notice] To update, run: python.exe -m pip install --upgrade pip\n"
     ]
    }
   ],
   "source": [
    "!pip install requests"
   ]
  },
  {
   "cell_type": "code",
   "execution_count": 191,
   "id": "51514577-dafd-4826-9070-3d53beaabf09",
   "metadata": {},
   "outputs": [],
   "source": [
    "import requests"
   ]
  },
  {
   "cell_type": "code",
   "execution_count": 62,
   "id": "7792baf3-51e8-49c8-b3a2-5bcc3f802616",
   "metadata": {
    "scrolled": true
   },
   "outputs": [],
   "source": [
    "#manual method\n",
    "def get_link(URL, year): \n",
    "    response = requests.get(URL)\n",
    "    response_content=str(response.content)\n",
    "    search_data=[\"District-wise IPC Crimes\",\"Districtwise IPC Crimes\",\"District-Wise IPC Cases\",\"District-wise Incidence\"]\n",
    "    i=-1\n",
    "    for item in search_data:\n",
    "        index=response_content.find(item)\n",
    "        if (index!= -1):\n",
    "            i=index\n",
    "            break\n",
    "    link_start=-1\n",
    "    link_end=-1\n",
    "    if (i==-1):\n",
    "        print(\"link not found\")\n",
    "    else:\n",
    "        while (link_start == -1):\n",
    "            if ((link_end == -1) & (response_content[i] == '\"')):\n",
    "                link_end=i\n",
    "            elif (link_start == -1) & (response_content[i] == '\"'):\n",
    "                link_start=i\n",
    "            i-=1\n",
    "        print(link_start)\n",
    "        print(link_end)\n",
    "        link=response_content[link_start+1:link_end]\n",
    "        return link\n",
    "    print(link_start)\n",
    "    print(link_end)\n",
    "\n",
    "def download_file2(link):\n",
    "    response = requests.get(link)\n",
    "    output = open(f'test{year}.xls', 'wb')\n",
    "    output.write(response.content)\n",
    "    output.close()"
   ]
  },
  {
   "cell_type": "code",
   "execution_count": 192,
   "id": "7f450ae6-1552-46a7-ac11-ca5bcd5b78fe",
   "metadata": {},
   "outputs": [],
   "source": [
    "# for year in range(2013,2021):\n",
    "#     print(year)\n",
    "#     URL = f\"https://ncrb.gov.in/crime-in-india-additional-table.html?year={year}&category=District+Wise+Reports\"\n",
    "#     print(get_link(URL, year))\n",
    "\n",
    "# for year in range(2010,2013):\n",
    "#     print(year)\n",
    "#     URL = f\"https://ncrb.gov.in/crime-in-india-table-content.html?year={year}&category=\"\n",
    "#     print(get_link(URL, year))"
   ]
  },
  {
   "cell_type": "code",
   "execution_count": null,
   "id": "6d9a9e51-5f9b-4095-84e9-71bc4addc3a3",
   "metadata": {},
   "outputs": [],
   "source": []
  },
  {
   "cell_type": "code",
   "execution_count": null,
   "id": "0ab929eb-61a7-4cda-884f-aa9e24841994",
   "metadata": {},
   "outputs": [],
   "source": []
  },
  {
   "cell_type": "code",
   "execution_count": null,
   "id": "1e7349de-3fe7-4edd-9945-dfe48d0731b3",
   "metadata": {},
   "outputs": [],
   "source": []
  },
  {
   "cell_type": "code",
   "execution_count": 115,
   "id": "11b3bdf2-97fe-46f1-bfa1-df3236464ffd",
   "metadata": {},
   "outputs": [
    {
     "name": "stdout",
     "output_type": "stream",
     "text": [
      "^C\n"
     ]
    }
   ],
   "source": [
    "!pip install selenium"
   ]
  },
  {
   "cell_type": "code",
   "execution_count": null,
   "id": "5b0217db-22f6-4179-b244-6f97c045ef8f",
   "metadata": {},
   "outputs": [],
   "source": [
    "!pip install webdriver-manager"
   ]
  },
  {
   "cell_type": "code",
   "execution_count": 105,
   "id": "73c1fc87-6d58-4734-b7a4-0ae3804a1fec",
   "metadata": {},
   "outputs": [],
   "source": [
    "from selenium import webdriver\n",
    "from selenium.webdriver.chrome.service import Service as ChromeService\n",
    "from webdriver_manager.chrome import ChromeDriverManager\n",
    "from bs4 import BeautifulSoup\n",
    "from urllib import request\n",
    "import requests\n",
    "import urllib.parse"
   ]
  },
  {
   "cell_type": "code",
   "execution_count": 64,
   "id": "8d9a99b3-aa2d-4bd4-8707-bf738ef2a874",
   "metadata": {},
   "outputs": [],
   "source": [
    "#to check names of files\n",
    "def check():\n",
    "    URL=[]\n",
    "    link=[]\n",
    "    start_year=2010\n",
    "    end_year=2022\n",
    "    for year in range(start_year,2014):\n",
    "        print(year)\n",
    "        URL.append(f\"https://ncrb.gov.in/crime-in-india-table-content.html?year={year}&category=\")\n",
    "    \n",
    "    for year in range(2014,end_year):\n",
    "        print(year)\n",
    "        URL.append(f\"https://ncrb.gov.in/crime-in-india-additional-table.html?year={year}&category=District+Wise+Reports\")\n",
    "    \n",
    "    driver = webdriver.Chrome(service=ChromeService(ChromeDriverManager().install()))\n",
    "    for item_url in URL:\n",
    "        driver.get(item_url)\n",
    "        html= driver.page_source\n",
    "        soup=BeautifulSoup(html)\n",
    "        for tag in soup.find_all('a'):\n",
    "            text=str(tag.string)\n",
    "            text2=text.lower()\n",
    "            if((text2.find(\"district\")> -1) & (text2.find(\"wise\")> -1) & (text2.find(\"ipc\")> -1) ):\n",
    "                print(text)\n",
    "        # link.append(get_link2(html))\n",
    "    print(\"complete\")\n",
    "    driver.close()\n",
    "    return "
   ]
  },
  {
   "cell_type": "code",
   "execution_count": 65,
   "id": "7b3edcf4-76d9-48fa-866b-4233e19f7bd7",
   "metadata": {},
   "outputs": [
    {
     "name": "stdout",
     "output_type": "stream",
     "text": [
      "2010\n",
      "2011\n",
      "2012\n",
      "2013\n",
      "2014\n",
      "2015\n",
      "2016\n",
      "2017\n",
      "2018\n",
      "2019\n",
      "2020\n",
      "2021\n",
      "District-wise Incidence of Cognizable Crimes (IPC)\n",
      "District-wise Incidence of Cognizable Crimes (IPC)\n",
      "District-wise Incidence of Cognizable Crimes (IPC)\n",
      "District-wise Incidence of Cognizable Crimes (IPC)\n",
      "District-Wise IPC Cases Reported_2014\n",
      "District-Wise IPC Cases Reported_2015\n",
      "District-Wise IPC Cases Reported_2016\n",
      "District-wise IPC Crimes - 2017\n",
      "District-wise IPC Crime by Jeveniles_2017\n",
      "District-wise IPC Crimes - 2018\n",
      "District-wise IPC Crime by Jeveniles_2018\n",
      "District-wise IPC Crimes - 2019.xlsx\n",
      "District-wise IPC Crime by Juveniles_2019\n",
      "Districtwise IPC Crime by Juveniles 2020\n",
      "Districtwise IPC Crimes 2020\n",
      "Districtwise IPC Crimes_2021\n",
      "Districtwise IPC Crime by Juveniles_2021\n",
      "complete\n"
     ]
    }
   ],
   "source": [
    "check()"
   ]
  },
  {
   "cell_type": "code",
   "execution_count": 106,
   "id": "0f3bcc20-75e0-4439-af4b-0bc395497f04",
   "metadata": {},
   "outputs": [],
   "source": [
    "def get_link2(html):\n",
    "    soup=BeautifulSoup(html)\n",
    "    \n",
    "    for tag in soup.find_all('a'):\n",
    "        text=str(tag.string).lower()\n",
    "        if((text.find(\"district\")> -1) & (text.find(\"wise\")> -1) & (text.find(\"ipc\")> -1) & ((text.find(\"crimes\")> -1) or (text.find(\"cases\")> -1))):\n",
    "            link=tag.get('href')\n",
    "            correct_link=urllib.parse.quote(link, safe=':/')     #to remove space from link\n",
    "            print(correct_link)\n",
    "            return correct_link\n",
    "    print(\"link not found\")\n",
    "    return 0\n",
    "\n",
    "# We can also use soup.find_all(target= '_blank') instead of soup.find_all('a')\n",
    "# for link in soup.find_all(target= '_blank'):\n",
    "#     all_links.append(link.get('href'))\n",
    "#     print(link.string)"
   ]
  },
  {
   "cell_type": "code",
   "execution_count": 107,
   "id": "ffa71818-5fbf-4636-b72f-c3735fc67898",
   "metadata": {},
   "outputs": [],
   "source": [
    "def get_html():\n",
    "    years=[]\n",
    "    URL=[]\n",
    "    link=[]\n",
    "    start_year=2010\n",
    "    end_year=2022\n",
    "    for year in range(start_year,2014):\n",
    "        years.append(year)\n",
    "        URL.append(f\"https://ncrb.gov.in/crime-in-india-table-content.html?year={year}&category=\")\n",
    "    \n",
    "    for year in range(2014,end_year):\n",
    "        years.append(year)\n",
    "        URL.append(f\"https://ncrb.gov.in/crime-in-india-additional-table.html?year={year}&category=District+Wise+Reports\")\n",
    "    \n",
    "    driver = webdriver.Chrome(service=ChromeService(ChromeDriverManager().install()))\n",
    "    for item_url in URL:\n",
    "        driver.get(item_url)\n",
    "        html= driver.page_source\n",
    "        link.append(get_link2(html))\n",
    "    driver.close()\n",
    "    return link,years"
   ]
  },
  {
   "cell_type": "code",
   "execution_count": 108,
   "id": "241a6cba-2346-427f-b609-f94981d1526d",
   "metadata": {},
   "outputs": [
    {
     "name": "stdout",
     "output_type": "stream",
     "text": [
      "https://ncrb.gov.in/uploads/2022/July/11/custom/crime-in-india/Table1.14_2010.pdf\n",
      "https://ncrb.gov.in/uploads/2022/July/11/custom/crime-in-india/Table1.14_2011.pdf\n",
      "https://ncrb.gov.in/uploads/2022/July/11/custom/crime-in-india/Table1.14.pdf\n",
      "https://ncrb.gov.in/uploads/2022/July/11/custom/crime-in-india/Table1.14_2013.pdf\n",
      "https://ncrb.gov.in/uploads/2022/July/11/custom/crime-in-india/1-District-Wise%20IPC-Cases%20Reported_2014.xlsx\n",
      "https://ncrb.gov.in/uploads/2022/July/11/custom/crime-in-india/1-District-Wise-IPC-Cases-Reported_2015.xlsx\n",
      "https://ncrb.gov.in/uploads/2022/July/11/custom/crime-in-india/District-Wise-IPC-Cases-Reported_2016.xlsx\n",
      "https://ncrb.gov.in/uploads/2022/July/11/custom/crime-in-india/District-wise-IPC-Crimes%20-%202017.xlsx\n",
      "https://ncrb.gov.in/uploads/2022/July/11/custom/crime-in-india/1%20District-wise-IPC-Crimes%20-%202018.xlsx\n",
      "https://ncrb.gov.in/uploads/2022/July/11/custom/crime-in-india/1%20District-wise-IPC-Crimes%20-%202019.xlsx\n",
      "https://ncrb.gov.in/uploads/2022/July/11/custom/crime-in-india/Districtwise-IPC-Crimes_2020.xlsx\n",
      "https://ncrb.gov.in/uploads/nationalcrimerecordsbureau/post/16730065601DistrictwiseIPCCrimes2021.xlsx\n"
     ]
    }
   ],
   "source": [
    "link,years=get_html()"
   ]
  },
  {
   "cell_type": "code",
   "execution_count": 109,
   "id": "dbee4ab8-97ca-4383-95ea-a6ee0cafa455",
   "metadata": {},
   "outputs": [],
   "source": [
    "def download_file(link,years):\n",
    "    for i,item in enumerate(link):\n",
    "        # facing problems with binary mode writing, Alteryx not able to read\n",
    "        # response = requests.get(link[i])\n",
    "        # output = open(rf\"C:\\Users\\Rakesh Nath\\Documents\\tableau\\Crime project\\updated data\\districtwise IPC crime {years[i]}.xlsx\", 'wb')\n",
    "        # output.write(response.content)\n",
    "        # output.close()\n",
    "        link_address=link[i]\n",
    "        if link_address.count(\".xlsx\")>0:\n",
    "            file_name=rf\"C:\\Users\\Rakesh Nath\\Documents\\tableau\\Crime project\\updated data\\districtwise IPC crime {years[i]}.xlsx\"\n",
    "        elif link_address.count(\".pdf\")>0:\n",
    "            file_name=rf\"C:\\Users\\Rakesh Nath\\Documents\\tableau\\Crime project\\updated data\\districtwise IPC crime {years[i]}.pdf\"\n",
    "        else:\n",
    "            print(\"Download file not in excel or pdf format\")\n",
    "            continue\n",
    "        request.urlretrieve(link_address, file_name)"
   ]
  },
  {
   "cell_type": "code",
   "execution_count": 110,
   "id": "28f7c557-e1df-4d11-9f0d-f1e9052479d1",
   "metadata": {},
   "outputs": [],
   "source": [
    "download_file(link,years)"
   ]
  }
 ],
 "metadata": {
  "kernelspec": {
   "display_name": "Python 3 (ipykernel)",
   "language": "python",
   "name": "python3"
  },
  "language_info": {
   "codemirror_mode": {
    "name": "ipython",
    "version": 3
   },
   "file_extension": ".py",
   "mimetype": "text/x-python",
   "name": "python",
   "nbconvert_exporter": "python",
   "pygments_lexer": "ipython3",
   "version": "3.12.0"
  }
 },
 "nbformat": 4,
 "nbformat_minor": 5
}
